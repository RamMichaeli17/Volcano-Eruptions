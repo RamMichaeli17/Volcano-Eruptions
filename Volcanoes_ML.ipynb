{
 "cells": [
  {
   "cell_type": "code",
   "execution_count": 1,
   "id": "b4d3a917",
   "metadata": {},
   "outputs": [],
   "source": [
    "### Assigned by ###\n",
    "# Gal Israeli #####\n",
    "# Yulia Kuderko ###\n",
    "# Ram Michaeli ####\n",
    "###################\n",
    "\n",
    "import pandas as pd\n",
    "import sklearn\n",
    "from sklearn.linear_model import LinearRegression\n",
    "from sklearn.preprocessing import MinMaxScaler, StandardScaler, normalize\n",
    "from sklearn.model_selection import train_test_split\n",
    "from sklearn import linear_model\n",
    "from sklearn.neighbors import KNeighborsClassifier\n",
    "from sklearn import tree\n",
    "from sklearn.tree import DecisionTreeClassifier\n",
    "from sklearn.naive_bayes import GaussianNB\n",
    "from sklearn.ensemble import RandomForestClassifier\n",
    "\n",
    "import matplotlib.pyplot as plt\n",
    "import random\n",
    "import math\n",
    "from sklearn.metrics import r2_score\n",
    "import numpy as np\n",
    "import sklearn.metrics as metrics\n",
    "\n",
    "\n",
    "%matplotlib inline\n",
    "\n",
    "from sklearn.model_selection import GridSearchCV\n",
    "from sklearn.model_selection import cross_val_score\n",
    "from sklearn.metrics import make_scorer\n",
    "\n",
    "import warnings\n",
    "warnings.filterwarnings('ignore')"
   ]
  },
  {
   "cell_type": "code",
   "execution_count": 2,
   "id": "268cd52d",
   "metadata": {},
   "outputs": [
    {
     "data": {
      "text/html": [
       "<div>\n",
       "<style scoped>\n",
       "    .dataframe tbody tr th:only-of-type {\n",
       "        vertical-align: middle;\n",
       "    }\n",
       "\n",
       "    .dataframe tbody tr th {\n",
       "        vertical-align: top;\n",
       "    }\n",
       "\n",
       "    .dataframe thead th {\n",
       "        text-align: right;\n",
       "    }\n",
       "</style>\n",
       "<table border=\"1\" class=\"dataframe\">\n",
       "  <thead>\n",
       "    <tr style=\"text-align: right;\">\n",
       "      <th></th>\n",
       "      <th>volcanoName</th>\n",
       "      <th>eruptionCertainty</th>\n",
       "      <th>startDate</th>\n",
       "      <th>maxVEI</th>\n",
       "      <th>evidenceMethod</th>\n",
       "      <th>stopDate</th>\n",
       "      <th>latitude</th>\n",
       "      <th>longitude</th>\n",
       "      <th>volcanoHeight</th>\n",
       "      <th>country</th>\n",
       "      <th>primaryVolcanoType</th>\n",
       "      <th>population5km</th>\n",
       "      <th>population10km</th>\n",
       "      <th>population30km</th>\n",
       "      <th>population100km</th>\n",
       "    </tr>\n",
       "  </thead>\n",
       "  <tbody>\n",
       "    <tr>\n",
       "      <th>0</th>\n",
       "      <td>Ambae</td>\n",
       "      <td>1</td>\n",
       "      <td>2021 Dec 5</td>\n",
       "      <td>2</td>\n",
       "      <td>Historical Observations</td>\n",
       "      <td>2021 Dec 9</td>\n",
       "      <td>-15.389</td>\n",
       "      <td>167.835</td>\n",
       "      <td>1496</td>\n",
       "      <td>Vanuatu</td>\n",
       "      <td>Shield</td>\n",
       "      <td>73</td>\n",
       "      <td>1279</td>\n",
       "      <td>4326</td>\n",
       "      <td>73308</td>\n",
       "    </tr>\n",
       "    <tr>\n",
       "      <th>1</th>\n",
       "      <td>Pinatubo</td>\n",
       "      <td>1</td>\n",
       "      <td>2021 Nov 30</td>\n",
       "      <td>4</td>\n",
       "      <td>Historical Observations</td>\n",
       "      <td>2021 Nov 30</td>\n",
       "      <td>15.130</td>\n",
       "      <td>120.350</td>\n",
       "      <td>1486</td>\n",
       "      <td>Philippines</td>\n",
       "      <td>Stratovolcano</td>\n",
       "      <td>725</td>\n",
       "      <td>3808</td>\n",
       "      <td>1148684</td>\n",
       "      <td>21875048</td>\n",
       "    </tr>\n",
       "    <tr>\n",
       "      <th>2</th>\n",
       "      <td>Iliwerung</td>\n",
       "      <td>1</td>\n",
       "      <td>2021 Nov 28</td>\n",
       "      <td>1</td>\n",
       "      <td>Historical Observations</td>\n",
       "      <td>2021 Nov 29</td>\n",
       "      <td>-8.532</td>\n",
       "      <td>123.573</td>\n",
       "      <td>583</td>\n",
       "      <td>Indonesia</td>\n",
       "      <td>Complex</td>\n",
       "      <td>968</td>\n",
       "      <td>4318</td>\n",
       "      <td>79569</td>\n",
       "      <td>665081</td>\n",
       "    </tr>\n",
       "    <tr>\n",
       "      <th>3</th>\n",
       "      <td>Taal</td>\n",
       "      <td>1</td>\n",
       "      <td>2021 Nov 15</td>\n",
       "      <td>2</td>\n",
       "      <td>Historical Observations</td>\n",
       "      <td>2021 Nov 22</td>\n",
       "      <td>14.002</td>\n",
       "      <td>120.993</td>\n",
       "      <td>311</td>\n",
       "      <td>Philippines</td>\n",
       "      <td>Caldera</td>\n",
       "      <td>717090</td>\n",
       "      <td>717090</td>\n",
       "      <td>2380326</td>\n",
       "      <td>24814047</td>\n",
       "    </tr>\n",
       "    <tr>\n",
       "      <th>4</th>\n",
       "      <td>Turrialba</td>\n",
       "      <td>1</td>\n",
       "      <td>2021 Nov 3</td>\n",
       "      <td>2</td>\n",
       "      <td>Historical Observations</td>\n",
       "      <td>2021 Nov 23</td>\n",
       "      <td>10.025</td>\n",
       "      <td>-83.767</td>\n",
       "      <td>3340</td>\n",
       "      <td>Costa Rica</td>\n",
       "      <td>Stratovolcano</td>\n",
       "      <td>1891</td>\n",
       "      <td>6867</td>\n",
       "      <td>672428</td>\n",
       "      <td>3390544</td>\n",
       "    </tr>\n",
       "  </tbody>\n",
       "</table>\n",
       "</div>"
      ],
      "text/plain": [
       "  volcanoName  eruptionCertainty    startDate  maxVEI  \\\n",
       "0       Ambae                  1   2021 Dec 5       2   \n",
       "1    Pinatubo                  1  2021 Nov 30       4   \n",
       "2   Iliwerung                  1  2021 Nov 28       1   \n",
       "3        Taal                  1  2021 Nov 15       2   \n",
       "4   Turrialba                  1   2021 Nov 3       2   \n",
       "\n",
       "            evidenceMethod     stopDate  latitude  longitude  volcanoHeight  \\\n",
       "0  Historical Observations   2021 Dec 9   -15.389    167.835           1496   \n",
       "1  Historical Observations  2021 Nov 30    15.130    120.350           1486   \n",
       "2  Historical Observations  2021 Nov 29    -8.532    123.573            583   \n",
       "3  Historical Observations  2021 Nov 22    14.002    120.993            311   \n",
       "4  Historical Observations  2021 Nov 23    10.025    -83.767           3340   \n",
       "\n",
       "       country primaryVolcanoType  population5km  population10km  \\\n",
       "0      Vanuatu             Shield             73            1279   \n",
       "1  Philippines      Stratovolcano            725            3808   \n",
       "2    Indonesia            Complex            968            4318   \n",
       "3  Philippines            Caldera         717090          717090   \n",
       "4   Costa Rica      Stratovolcano           1891            6867   \n",
       "\n",
       "   population30km  population100km  \n",
       "0            4326            73308  \n",
       "1         1148684         21875048  \n",
       "2           79569           665081  \n",
       "3         2380326         24814047  \n",
       "4          672428          3390544  "
      ]
     },
     "execution_count": 2,
     "metadata": {},
     "output_type": "execute_result"
    }
   ],
   "source": [
    "df=pd.read_csv(\"Volcano_after_cleaning.csv\")\n",
    "df.head()"
   ]
  },
  {
   "cell_type": "markdown",
   "id": "97674fd0",
   "metadata": {},
   "source": [
    "## KNN Using Latitude and Longtiude to Predict maxVEI"
   ]
  },
  {
   "cell_type": "code",
   "execution_count": 3,
   "id": "b589c3e2",
   "metadata": {},
   "outputs": [
    {
     "name": "stdout",
     "output_type": "stream",
     "text": [
      "Best parameter set is: {'n_neighbors': 17}  and its score was 0.5996\n"
     ]
    }
   ],
   "source": [
    "#### KNN using latitude and longtiude , to predict maxVEI\n",
    "X = df[[\"latitude\",\"longitude\"]]\n",
    "y = df[[\"maxVEI\"]]\n",
    "\n",
    "X_train, X_test, y_train, y_test = train_test_split(X, y, test_size=0.25)\n",
    "\n",
    "parameters = {'n_neighbors':range(1,int(math.sqrt(df.shape[0])),2) }\n",
    "knn = KNeighborsClassifier()\n",
    "model = GridSearchCV(knn, parameters,scoring=make_scorer(metrics.accuracy_score, greater_is_better=True))\n",
    "model.fit(X_train, y_train)\n",
    "\n",
    "\n",
    "print(\"Best parameter set is:\",model.best_params_,\" and its score was\",(round(model.best_score_,4)))"
   ]
  },
  {
   "cell_type": "code",
   "execution_count": 4,
   "id": "03b08e71",
   "metadata": {},
   "outputs": [
    {
     "name": "stdout",
     "output_type": "stream",
     "text": [
      "\n",
      "The predicted VEI at position (19.1,2.76) is 2\n",
      "Try again? Y/N:  y\n",
      "\n",
      "The predicted VEI at position (65.73,95.55) is 4\n",
      "Try again? Y/N:  y\n",
      "\n",
      "The predicted VEI at position (-34.54,-133.02) is 0\n",
      "Try again? Y/N:  y\n",
      "\n",
      "The predicted VEI at position (-37.71,-171.56) is 0\n",
      "Try again? Y/N:  y\n",
      "\n",
      "The predicted VEI at position (-57.25,103.23) is 2\n",
      "Try again? Y/N:  y\n",
      "\n",
      "The predicted VEI at position (-58.53,172.12) is 4\n",
      "Try again? Y/N:  y\n",
      "\n",
      "The predicted VEI at position (4.04,135.53) is 2\n",
      "Try again? Y/N:  n\n",
      "\n",
      "Done\n"
     ]
    }
   ],
   "source": [
    "userinput='y'\n",
    "\n",
    "while(userinput=='y' or userinput==\"Y\"):\n",
    "    lat = random.uniform(-90, 90)\n",
    "    long = random.uniform(-180, 180)\n",
    "    print(\"\\nThe predicted VEI at position (\"+str(round(lat,2))+\",\"+str(round(long,2))+\") is \"+str(int(model.predict([[lat, long]]))))\n",
    "    userinput=str(input(\"Try again? Y/N:  \"))\n",
    "print(\"\\nDone\")"
   ]
  },
  {
   "cell_type": "markdown",
   "id": "e493ba23",
   "metadata": {},
   "source": [
    "## Logistic Regression to Predict Eruption Strength Based on Location"
   ]
  },
  {
   "cell_type": "code",
   "execution_count": 5,
   "id": "1a84d264",
   "metadata": {},
   "outputs": [
    {
     "name": "stdout",
     "output_type": "stream",
     "text": [
      "First location will be (0,112) which is above Australia , right on the Ring of Fire\n",
      "\n",
      "Weak eruption probability = 20.77% \n",
      "Strong eruption probability = 79.23%\n",
      "\n",
      "\n",
      "\n",
      "Second location will be (90,135) - Antarctica , which has volcanoes but is relatively more quiet\n",
      "\n",
      "Weak eruption probability = 50.67% \n",
      "Strong eruption probability = 49.33%\n",
      "\n",
      "\n",
      "The results are as expected! \n",
      "a location on the 'Ring of Fire' has a much higher 'Strong eruption probability'\n"
     ]
    }
   ],
   "source": [
    "strongEruptions = df[(df['maxVEI']>=3)]\n",
    "weakEruptions = df[(df['maxVEI']<=2)]\n",
    "\n",
    "strongEruptions['veiGroup'] = 'Strong'\n",
    "weakEruptions['veiGroup'] = 'Weak'\n",
    "\n",
    "newDF_grouped_by_maxVEI = pd.concat([weakEruptions, strongEruptions], ignore_index=True).drop(['maxVEI'], axis=1)\n",
    "\n",
    "X = newDF_grouped_by_maxVEI[[\"latitude\",\"longitude\"]]\n",
    "y = newDF_grouped_by_maxVEI[\"veiGroup\"]\n",
    "\n",
    "X_train, X_test, y_train, y_test = train_test_split(X, y, test_size=0.33, random_state=40)\n",
    "scaler = MinMaxScaler(feature_range=(-1,1))\n",
    "X_train_scaled = scaler.fit_transform(X_train.values)\n",
    "model = sklearn.linear_model.LogisticRegression().fit(X_train_scaled, y_train.values)\n",
    "\n",
    "\n",
    "scaler.fit(X_test)\n",
    "\n",
    "for i in range(0,2):\n",
    "    if i==0:\n",
    "        print(\"First location will be (0,112) which is above Australia , right on the Ring of Fire\")\n",
    "        lat=0\n",
    "        long = 112    \n",
    "    else:\n",
    "        print(\"\\n\\nSecond location will be (90,135) - Antarctica , which has volcanoes but is relatively more quiet\")\n",
    "        lat=90\n",
    "        long = 135 \n",
    "        \n",
    "    position = scaler.transform([[lat, long]])\n",
    "    \n",
    "    weak, strong = model.predict_proba(position)[0][0], model.predict_proba(position)[0][1]\n",
    "    print(\"\\nWeak eruption probability = \"+str(round(weak,4)*100)+\"% \\nStrong eruption probability = \"+str(round(strong,4)*100)+\"%\\n\")\n",
    "    \n",
    "print(\"\\nThe results are as expected! \\na location on the 'Ring of Fire' has a much higher 'Strong eruption probability'\")"
   ]
  },
  {
   "cell_type": "markdown",
   "id": "243b257b",
   "metadata": {},
   "source": [
    "## Predict Primary Volcano Type Based On Volcano Height"
   ]
  },
  {
   "cell_type": "markdown",
   "id": "bd2c88ec",
   "metadata": {},
   "source": [
    "#### We will test out different algorithms and use the most successful one"
   ]
  },
  {
   "cell_type": "code",
   "execution_count": 6,
   "id": "55ba6419",
   "metadata": {},
   "outputs": [
    {
     "name": "stdout",
     "output_type": "stream",
     "text": [
      "Test size is: 0.2\n",
      "Initial amount of samples: #10636\n",
      "Number of training samples: #7445\n",
      "Number of test samples: #3191\n"
     ]
    }
   ],
   "source": [
    "X = df[[\"volcanoHeight\"]]\n",
    "y = df[[\"primaryVolcanoType\"]]\n",
    "X_train, X_test, y_train, y_test = train_test_split(X, y, random_state=42, test_size=0.3)\n",
    "print(f\"Test size is: {0.3}\")\n",
    "print(\"Initial amount of samples: #{}\".format(X.shape[0]))\n",
    "print(\"Number of training samples: #{}\".format(X_train.shape[0]))\n",
    "print(\"Number of test samples: #{}\".format(X_test.shape[0]))"
   ]
  },
  {
   "cell_type": "code",
   "execution_count": 7,
   "id": "01b3012a",
   "metadata": {},
   "outputs": [
    {
     "name": "stdout",
     "output_type": "stream",
     "text": [
      "Classifier = 'KNN':\n",
      "best parameter set is: {'n_neighbors': 3}  and its score was 0.9509738079247818\n",
      "--------------------------------------------\n",
      "Classifier = 'Decision Tree':\n",
      "best parameter set is: {'max_depth': 19, 'min_samples_split': 10}  and its score was 0.9466756212222969\n",
      "--------------------------------------------\n",
      "Classifier = 'Random Forest':\n",
      "best parameter set is: {'n_estimators': 400}  and its score was 0.9642713230355945\n",
      "--------------------------------------------\n"
     ]
    }
   ],
   "source": [
    "print(\"Classifier = 'KNN':\")\n",
    "parameters = {'n_neighbors':range(3,103,2) }\n",
    "knn = KNeighborsClassifier()\n",
    "clf = GridSearchCV(knn, parameters,scoring=make_scorer(metrics.accuracy_score, greater_is_better=True))\n",
    "clf.fit(X_train, y_train)\n",
    "params_KNN = list(clf.best_params_.values())[0]\n",
    "print(\"best parameter set is:\",clf.best_params_,\" and its score was\",clf.best_score_)\n",
    "print(\"--------------------------------------------\")\n",
    "\n",
    "print(\"Classifier = 'Decision Tree':\")\n",
    "parameters = {'max_depth':range(1,20),'min_samples_split':range(10,50,5) }\n",
    "decisionTree = tree.DecisionTreeClassifier()\n",
    "clf = GridSearchCV(decisionTree, parameters,scoring=make_scorer(metrics.accuracy_score, greater_is_better=True))\n",
    "clf.fit(X_train, y_train)\n",
    "params_DT_max_depth = list(clf.best_params_.values())[0]\n",
    "params_DT_min_samples_split = list(clf.best_params_.values())[1]\n",
    "print(\"best parameter set is:\",clf.best_params_,\" and its score was\",clf.best_score_)\n",
    "print(\"--------------------------------------------\")\n",
    "\n",
    "print(\"Classifier = 'Random Forest':\")\n",
    "parameters = {'n_estimators':range(50,551,50) }\n",
    "rf = RandomForestClassifier()\n",
    "clf = GridSearchCV(rf, parameters,scoring=make_scorer(metrics.accuracy_score, greater_is_better=True))\n",
    "clf.fit(X_train, y_train)\n",
    "params_RF = list(clf.best_params_.values())[0]\n",
    "print(\"best parameter set is:\",clf.best_params_,\" and its score was\",clf.best_score_)\n",
    "print(\"--------------------------------------------\")"
   ]
  },
  {
   "cell_type": "code",
   "execution_count": 8,
   "id": "4a8e4c86",
   "metadata": {},
   "outputs": [
    {
     "name": "stdout",
     "output_type": "stream",
     "text": [
      "KNN\n",
      "Accuracy on training data =  0.9645399597044997\n",
      "Accuracy on test data =  0.9526794108429959\n",
      "--------------------------------------------\n",
      "Decision Tree\n",
      "Accuracy on training data =  0.955137676292814\n",
      "Accuracy on test data =  0.9460984017549358\n",
      "--------------------------------------------\n",
      "Random Forest\n",
      "Accuracy on training data =  0.9759570181329752\n",
      "Accuracy on test data =  0.9636477593230962\n",
      "--------------------------------------------\n",
      "Naive Bayes\n",
      "Accuracy on training data =  0.642578912021491\n",
      "Accuracy on test data =  0.637731118771545\n",
      "--------------------------------------------\n",
      "The best CLF is: RandomForestClassifier(n_estimators=400)\n"
     ]
    }
   ],
   "source": [
    "clf1 = KNeighborsClassifier(n_neighbors=params_KNN)\n",
    "clf2 = tree.DecisionTreeClassifier(max_depth= params_DT_max_depth, min_samples_split= params_DT_min_samples_split)\n",
    "clf3 = RandomForestClassifier(n_estimators=params_RF,bootstrap=True)\n",
    "clf4 = GaussianNB()\n",
    "algNames=[\"KNN\", \"Decision Tree\", \"Random Forest\", \"Naive Bayes\"]\n",
    "bestCLF = None\n",
    "bestACC = 0\n",
    "for i,clf in enumerate([clf1,clf2,clf3,clf4]):\n",
    "    clf.fit(X_train,y_train)\n",
    "    y_pred = clf.predict(X_test)\n",
    "    y_pred_train = clf.predict(X_train)\n",
    "    print(algNames[i])\n",
    "    currentACC = metrics.accuracy_score(y_true = y_train, y_pred = y_pred_train)\n",
    "    print('Accuracy on training data = ', metrics.accuracy_score(y_true = y_train, y_pred = y_pred_train))\n",
    "    print('Accuracy on test data = ', metrics.accuracy_score(y_true = y_test, y_pred = y_pred))\n",
    "    print(\"--------------------------------------------\")\n",
    "    if currentACC > bestACC:\n",
    "        bestACC = currentACC\n",
    "        bestCLF=clf\n",
    "print(\"The best CLF is: \"+str(bestCLF))"
   ]
  },
  {
   "cell_type": "code",
   "execution_count": 11,
   "id": "6d6b9b56",
   "metadata": {},
   "outputs": [
    {
     "name": "stdout",
     "output_type": "stream",
     "text": [
      "Enter volcano height: -2500\n",
      "The predicted primary volcano type is: ['Submarine']\n",
      "Try again? Y/N:  y\n",
      "Enter volcano height: 1500\n",
      "The predicted primary volcano type is: ['Shield']\n",
      "Try again? Y/N:  y\n",
      "Enter volcano height: 3500\n",
      "The predicted primary volcano type is: ['Volcanic field']\n",
      "Try again? Y/N:  n\n",
      "\n",
      "Done\n"
     ]
    }
   ],
   "source": [
    "userinput='y'\n",
    "num=int(input(\"Enter volcano height: \"))\n",
    "while(userinput=='y' or userinput==\"Y\"):\n",
    "    if num<-4200 or num>6879:\n",
    "        print(\"\\nPlease enter values between -4200 and 6879\")\n",
    "        num=int(input(\"Enter volcano height: \"))\n",
    "        continue\n",
    "    print(\"The predicted primary volcano type is: \"+str(bestCLF.predict([[num]])))\n",
    "    userinput=str(input(\"Try again? Y/N:  \"))\n",
    "    if not(userinput=='y' or userinput==\"Y\"):\n",
    "        print(\"\\nDone\")\n",
    "        break\n",
    "    num=int(input(\"Enter volcano height: \"))"
   ]
  },
  {
   "cell_type": "markdown",
   "id": "5ad9072d",
   "metadata": {},
   "source": [
    "## Using Linear Regression to Predict S02 Emissions Based on Volcano Height"
   ]
  },
  {
   "cell_type": "code",
   "execution_count": 12,
   "id": "729a107d",
   "metadata": {},
   "outputs": [],
   "source": [
    "df_emission = pd.read_csv(\"Volcano_Emission.csv\")\n",
    "\n",
    "df_emission.sort_values(\"SO2_Altitude\")\n",
    "\n",
    "names = list(df_emission.volcanoName.value_counts().keys())\n",
    "\n",
    "df_emission[df_emission['volcanoName']=='Etna'].SO2_Altitude.mean()\n",
    "\n",
    "combined = pd.DataFrame()\n",
    "SO2_Mass_kt_AVG = list()\n",
    "SO2_Altitude_AVG = list()\n",
    "for name in names:\n",
    "    SO2_Mass_kt_AVG.append(df_emission[df_emission['volcanoName']==name].SO2_Mass_kt.mean())\n",
    "    SO2_Altitude_AVG.append(df_emission[df_emission['volcanoName']==name].SO2_Altitude.mean())\n",
    "data= \\\n",
    "    {\n",
    "        'names':names,\n",
    "        'SO2_Mass_kt_AVG':SO2_Mass_kt_AVG,\n",
    "        \"SO2_Altitude_AVG\":SO2_Altitude_AVG\n",
    "    }\n",
    "combined = pd.DataFrame.from_dict(data)\n",
    "\n",
    "\n",
    "for i,j in df.iterrows():\n",
    "    if j['volcanoName'] not in names:\n",
    "        df.drop(i,inplace=True)\n",
    "        \n",
    "df['SO2_Mass_kt_AVG'] = None\n",
    "df['SO2_Altitude_AVG'] = None\n",
    "\n",
    "for i in range(0,df.shape[0]):\n",
    "    df['SO2_Altitude_AVG'].iloc[i] = float(combined.loc[combined['names']==df['volcanoName'].iloc[i]]['SO2_Altitude_AVG'])\n",
    "    df['SO2_Mass_kt_AVG'].iloc[i] = float(combined.loc[combined['names']==df['volcanoName'].iloc[i]]['SO2_Mass_kt_AVG'])"
   ]
  },
  {
   "cell_type": "code",
   "execution_count": 43,
   "id": "7afed1ec",
   "metadata": {},
   "outputs": [
    {
     "data": {
      "image/png": "[encoded data removed]",
      "text/plain": [
       "<Figure size 432x288 with 1 Axes>"
      ]
     },
     "metadata": {
      "needs_background": "light"
     },
     "output_type": "display_data"
    },
    {
     "name": "stdout",
     "output_type": "stream",
     "text": [
      "Linear model score : 70.36%\n"
     ]
    }
   ],
   "source": [
    "m=linear_model.LinearRegression().fit(df[['volcanoHeight']],df[['SO2_Altitude_AVG']])\n",
    "\n",
    "plt.scatter(x=df['volcanoHeight'],y=df['SO2_Altitude_AVG'],c='b',marker='*',label='Height')\n",
    "plt.plot(df['volcanoHeight'],m.predict(df[['volcanoHeight']]),color='red',linewidth=3)\n",
    "plt.xlabel('volcanoHeight')\n",
    "plt.ylabel('SO2_Altitude_AVG')\n",
    "plt.show()\n",
    "\n",
    "myscore = r2_score(df.SO2_Altitude_AVG.tolist(),m.predict(df[['volcanoHeight']]).flatten())\n",
    "\n",
    "print(\"Linear model score : \"+str(round(myscore*100,2))+\"%\")"
   ]
  },
  {
   "cell_type": "code",
   "execution_count": 45,
   "id": "9b8ecaa5",
   "metadata": {},
   "outputs": [
    {
     "name": "stdout",
     "output_type": "stream",
     "text": [
      "The model score is: 0.6960216147835554\n"
     ]
    }
   ],
   "source": [
    "X = df[['volcanoHeight']]\n",
    "y = df.SO2_Altitude_AVG\n",
    "XTrain, XTest, yTrain, yTest = train_test_split(X.values, y.astype('int'), test_size=0.2)\n",
    "model = sklearn.linear_model.LinearRegression().fit(XTrain, yTrain)\n",
    "y_pred=model.predict(XTest)\n",
    "\n",
    "print(\"The model score is: \"+str(model.score(X,y)))"
   ]
  },
  {
   "cell_type": "code",
   "execution_count": 46,
   "id": "e221425a",
   "metadata": {},
   "outputs": [
    {
     "name": "stdout",
     "output_type": "stream",
     "text": [
      "Enter volcano height: 700\n",
      "The predicted SO2_Altitude_AVG is: 5.0\n",
      "Try again? Y/N:  y\n",
      "Enter volcano height: 2400\n",
      "The predicted SO2_Altitude_AVG is: 8.0\n",
      "Try again? Y/N:  y\n",
      "Enter volcano height: 5600\n",
      "The predicted SO2_Altitude_AVG is: 11.0\n",
      "Try again? Y/N:  n\n",
      "\n",
      "Done\n"
     ]
    }
   ],
   "source": [
    "userinput='y'\n",
    "num=int(input(\"Enter volcano height: \"))\n",
    "while(userinput=='y' or userinput==\"Y\"):\n",
    "    if num<-4200 or num>6879:\n",
    "        print(\"\\nPlease enter values between -4200 and 6879\")\n",
    "        num=int(input(\"Enter volcano height: \"))\n",
    "        continue\n",
    "    print(\"The predicted SO2_Altitude_AVG is: \"+str(float(clf.predict([[num]]))))\n",
    "    userinput=str(input(\"Try again? Y/N:  \"))\n",
    "    if not(userinput=='y' or userinput==\"Y\"):\n",
    "        print(\"\\nDone\")\n",
    "        break\n",
    "    num=int(input(\"Enter volcano height: \"))"
   ]
  }
 ],
 "metadata": {
  "kernelspec": {
   "display_name": "Python 3 (ipykernel)",
   "language": "python",
   "name": "python3"
  },
  "language_info": {
   "codemirror_mode": {
    "name": "ipython",
    "version": 3
   },
   "file_extension": ".py",
   "mimetype": "text/x-python",
   "name": "python",
   "nbconvert_exporter": "python",
   "pygments_lexer": "ipython3",
   "version": "3.8.12"
  }
 },
 "nbformat": 4,
 "nbformat_minor": 5
}
